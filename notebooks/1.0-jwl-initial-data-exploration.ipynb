{
 "cells": [
  {
   "cell_type": "markdown",
   "metadata": {},
   "source": [
    "# EnvData"
   ]
  },
  {
   "cell_type": "markdown",
   "metadata": {},
   "source": [
    "## _Problem:_ \n",
    "Laboratory environmental data is stored to individual loggers in a proprietary binary format. Data must be manually downloaded weekly, imported into manufaturer software, then finally exported to an access database that can be read by required Air Force software to generate required reports. The version of the manufacturer software currently in use has been upgraded and the newer version stores data in a postgresql database that cannot be used by reporting sotware.\n",
    "\n",
    "## _Goal:_\n",
    "Develop a programatic solution for gathering and reporting laboratory environmental data."
   ]
  },
  {
   "cell_type": "markdown",
   "metadata": {},
   "source": [
    "## Import statements \n",
    "    * datetime module \n",
    "        - used to clean up DateStamp and TimeStamp formating\n",
    "    * pandas\n",
    "        - used for data processing\n",
    "    * numpy\n",
    "        - to be determined"
   ]
  },
  {
   "cell_type": "code",
   "execution_count": 1,
   "metadata": {
    "collapsed": false,
    "scrolled": false
   },
   "outputs": [],
   "source": [
    "# import numpy and pandas, and DataFrame / Series\n",
    "import numpy as np\n",
    "import pandas as pd\n",
    "from pandas import DataFrame, Series\n",
    "from datetime import datetime, timedelta\n",
    "\n",
    "# Set some pandas options\n",
    "pd.set_option('display.notebook_repr_html', True)\n",
    "pd.set_option('display.max_columns', 15)\n",
    "pd.set_option('display.max_rows', 150)\n",
    "pd.set_option('display.large_repr', 'truncate')\n",
    "\n",
    "# And some items for matplotlib\n",
    "%matplotlib inline\n",
    "import matplotlib.pyplot as plt\n",
    "# pd.options.display.mpl_style = 'default'\n",
    "plt.style.use('fivethirtyeight')"
   ]
  },
  {
   "cell_type": "markdown",
   "metadata": {
    "collapsed": true
   },
   "source": [
    "## Import Environmental Data\n",
    "20170128 - At the moment, there is not a way to collect logger data programatically. I'll be working with csv data generated using the \"Readings\" table stored in the `LogWare.mdb` and `Logware.mbw` exported from currently used version of the LogWare software. \n",
    "\n",
    "* Import data from LogWare database \n",
    "   \n"
   ]
  },
  {
   "cell_type": "markdown",
   "metadata": {},
   "source": [
    "### Create raw_data frame using csv file\n",
    "    \n",
    "The data imported from LogWare database needs a little bit of work.  Ultimately, we want to produce details describing our ability to monitor and maintain our laboratory environment within the specifications directed by T.O. 00-20-14 over a given time period.\n",
    "\n",
    "    * parse 'DateStamp' and 'TimeStamp' fields to create 'DateTimeStamp' field.\n",
    "    * Remove original 'DateStamp' and 'TimeStamp' columns\n",
    "    * use custom *dt_stamp* function instead of lambda\n"
   ]
  },
  {
   "cell_type": "markdown",
   "metadata": {
    "collapsed": true
   },
   "source": [
    "#### Date Parser for `pd.read_csv` data import"
   ]
  },
  {
   "cell_type": "code",
   "execution_count": 2,
   "metadata": {
    "collapsed": false
   },
   "outputs": [],
   "source": [
    "# Custom function to combine DateStamp and TimeStamp\n",
    "def dt_stamp(date, time):\n",
    "    dt = datetime.strptime(date, \"%m/%d/%Y %H:%M:%S\")\n",
    "    tm = datetime.strptime(time,\"%m/%d/%Y %H:%M:%S\").time()\n",
    "    dtc = datetime.combine(dt, tm)\n",
    "    return dtc"
   ]
  },
  {
   "cell_type": "code",
   "execution_count": 3,
   "metadata": {
    "collapsed": false
   },
   "outputs": [],
   "source": [
    "# parse 'DateStamp' and 'TimeStamp' fields to create 'DateTimeStamp' field.\n",
    "# remove original 'DateStamp' and 'TimeStamp' columns\n",
    "raw_data = pd.read_csv('data/readings.csv', parse_dates={'dts' : ['DateStamp', 'TimeStamp']}, keep_date_col=False, date_parser=dt_stamp)"
   ]
  },
  {
   "cell_type": "markdown",
   "metadata": {},
   "source": [
    "#### Alt Date Parser for pd.read_csv data import\n",
    "  * Anonymous function to combine DateStamp and TimeStamp\n",
    "\n",
    "```python\n",
    "timestamper = lambda dt, tm: datetime.combine(datetime.strptime(dt,\"%m/%d/%Y %H:%M:%S\"),datetime.strptime(tm,\"%m/%d/%Y %H:%M:%S\").time())\n",
    "```\n",
    "\n",
    "```python\n",
    "lab_data_orig = pd.read_csv('data/readings.csv', parse_dates={'DateTimeStamp' : ['DateStamp','TimeStamp']},keep_date_col=True, date_parser=timestamper)\n",
    "\n",
    "lab_data = lab_data_orig\n",
    "```"
   ]
  },
  {
   "cell_type": "markdown",
   "metadata": {},
   "source": [
    "### Cleansing and Data Processing"
   ]
  },
  {
   "cell_type": "code",
   "execution_count": 4,
   "metadata": {
    "collapsed": false
   },
   "outputs": [
    {
     "data": {
      "text/html": [
       "<div>\n",
       "<table border=\"1\" class=\"dataframe\">\n",
       "  <thead>\n",
       "    <tr style=\"text-align: right;\">\n",
       "      <th></th>\n",
       "      <th>dts</th>\n",
       "      <th>ID</th>\n",
       "      <th>LocationID</th>\n",
       "      <th>LoggerID</th>\n",
       "      <th>SensorID</th>\n",
       "      <th>UserID</th>\n",
       "      <th>TempReading</th>\n",
       "      <th>HumidReading</th>\n",
       "      <th>TempAlarmMin</th>\n",
       "      <th>TempAlarmMax</th>\n",
       "      <th>HumidAlarmMin</th>\n",
       "      <th>HumidAlarmMax</th>\n",
       "      <th>CRC</th>\n",
       "    </tr>\n",
       "  </thead>\n",
       "  <tbody>\n",
       "    <tr>\n",
       "      <th>0</th>\n",
       "      <td>2014-06-01</td>\n",
       "      <td>5277124</td>\n",
       "      <td>2</td>\n",
       "      <td>2</td>\n",
       "      <td>2</td>\n",
       "      <td>18</td>\n",
       "      <td>19.97</td>\n",
       "      <td>36.2</td>\n",
       "      <td>19.5</td>\n",
       "      <td>20.5</td>\n",
       "      <td>20.0</td>\n",
       "      <td>50.0</td>\n",
       "      <td>2249</td>\n",
       "    </tr>\n",
       "    <tr>\n",
       "      <th>1</th>\n",
       "      <td>2014-06-01</td>\n",
       "      <td>5277125</td>\n",
       "      <td>4</td>\n",
       "      <td>3</td>\n",
       "      <td>8</td>\n",
       "      <td>18</td>\n",
       "      <td>21.47</td>\n",
       "      <td>34.6</td>\n",
       "      <td>19.5</td>\n",
       "      <td>26.1</td>\n",
       "      <td>20.0</td>\n",
       "      <td>50.0</td>\n",
       "      <td>2250</td>\n",
       "    </tr>\n",
       "    <tr>\n",
       "      <th>2</th>\n",
       "      <td>2014-06-01</td>\n",
       "      <td>5277126</td>\n",
       "      <td>3</td>\n",
       "      <td>4</td>\n",
       "      <td>5</td>\n",
       "      <td>18</td>\n",
       "      <td>22.39</td>\n",
       "      <td>36.8</td>\n",
       "      <td>19.5</td>\n",
       "      <td>26.1</td>\n",
       "      <td>20.0</td>\n",
       "      <td>50.0</td>\n",
       "      <td>2253</td>\n",
       "    </tr>\n",
       "    <tr>\n",
       "      <th>3</th>\n",
       "      <td>2014-06-01</td>\n",
       "      <td>5277127</td>\n",
       "      <td>6</td>\n",
       "      <td>5</td>\n",
       "      <td>7</td>\n",
       "      <td>18</td>\n",
       "      <td>20.87</td>\n",
       "      <td>34.3</td>\n",
       "      <td>19.5</td>\n",
       "      <td>26.1</td>\n",
       "      <td>20.0</td>\n",
       "      <td>50.0</td>\n",
       "      <td>2253</td>\n",
       "    </tr>\n",
       "    <tr>\n",
       "      <th>4</th>\n",
       "      <td>2014-06-01</td>\n",
       "      <td>5277128</td>\n",
       "      <td>7</td>\n",
       "      <td>6</td>\n",
       "      <td>6</td>\n",
       "      <td>18</td>\n",
       "      <td>21.08</td>\n",
       "      <td>35.0</td>\n",
       "      <td>19.5</td>\n",
       "      <td>26.1</td>\n",
       "      <td>20.0</td>\n",
       "      <td>50.0</td>\n",
       "      <td>2152</td>\n",
       "    </tr>\n",
       "  </tbody>\n",
       "</table>\n",
       "</div>"
      ],
      "text/plain": [
       "         dts       ID  LocationID  LoggerID  SensorID  UserID  TempReading  \\\n",
       "0 2014-06-01  5277124           2         2         2      18        19.97   \n",
       "1 2014-06-01  5277125           4         3         8      18        21.47   \n",
       "2 2014-06-01  5277126           3         4         5      18        22.39   \n",
       "3 2014-06-01  5277127           6         5         7      18        20.87   \n",
       "4 2014-06-01  5277128           7         6         6      18        21.08   \n",
       "\n",
       "   HumidReading  TempAlarmMin  TempAlarmMax  HumidAlarmMin  HumidAlarmMax  \\\n",
       "0          36.2          19.5          20.5           20.0           50.0   \n",
       "1          34.6          19.5          26.1           20.0           50.0   \n",
       "2          36.8          19.5          26.1           20.0           50.0   \n",
       "3          34.3          19.5          26.1           20.0           50.0   \n",
       "4          35.0          19.5          26.1           20.0           50.0   \n",
       "\n",
       "    CRC  \n",
       "0  2249  \n",
       "1  2250  \n",
       "2  2253  \n",
       "3  2253  \n",
       "4  2152  "
      ]
     },
     "execution_count": 4,
     "metadata": {},
     "output_type": "execute_result"
    }
   ],
   "source": [
    "raw_data.head()"
   ]
  },
  {
   "cell_type": "markdown",
   "metadata": {},
   "source": [
    "#### Extract out only the data we need."
   ]
  },
  {
   "cell_type": "code",
   "execution_count": 5,
   "metadata": {
    "collapsed": true
   },
   "outputs": [],
   "source": [
    "data = raw_data.loc[:, ['dts', 'LocationID', 'TempReading', 'HumidReading', 'TempAlarmMin', 'TempAlarmMax', 'HumidAlarmMin', 'HumidAlarmMax']]"
   ]
  },
  {
   "cell_type": "markdown",
   "metadata": {},
   "source": [
    "#### Extract out only the requested date range "
   ]
  },
  {
   "cell_type": "code",
   "execution_count": 6,
   "metadata": {
    "collapsed": false
   },
   "outputs": [
    {
     "name": "stdout",
     "output_type": "stream",
     "text": [
      "Enter report start date: 1/23/2016\n",
      "Enter report end date: 1/22/2017\n"
     ]
    },
    {
     "data": {
      "text/plain": [
       "(datetime.datetime(2016, 1, 23, 0, 0), datetime.datetime(2017, 1, 22, 0, 0))"
      ]
     },
     "execution_count": 6,
     "metadata": {},
     "output_type": "execute_result"
    }
   ],
   "source": [
    "def date_range():\n",
    "    start_date = input('Enter report start date: ')\n",
    "    start_date = datetime.strptime(start_date, '%m/%d/%Y')\n",
    "    end_date = input('Enter report end date: ')\n",
    "    end_date = datetime.strptime(end_date, '%m/%d/%Y')\n",
    "    return start_date, end_date\n",
    "\n",
    "\n",
    "\n",
    "\n",
    "start_date, end_date = date_range()\n",
    "start_date, end_date"
   ]
  },
  {
   "cell_type": "code",
   "execution_count": 7,
   "metadata": {
    "collapsed": false
   },
   "outputs": [],
   "source": [
    "# data = data[(data['dts'] >= datetime(2016,1,23)) & (data['dts'] <= datetime(2017,1,23))]\n",
    "data = data[(data['dts'] >= start_date) & (data['dts'] <= end_date)]"
   ]
  },
  {
   "cell_type": "markdown",
   "metadata": {},
   "source": [
    "#### Update Temperature and Humidity Requirements based on location\n",
    "\n",
    "Primary report criteria is based on laboratory environmental requirements. The environmental requirements are determined by location as follows:\n",
    "\n",
    "* **68° Room**\n",
    "  * Temperature: 68 ± 1 °F  \n",
    "  * Relative Humidity: 35% ± 15%\n",
    "* **Main Laboratory**\n",
    "  * Temperature: 73 ± 6 °F\n",
    "  * Relative Humidity: 35% ± 15%\n",
    "\n",
    "Our dataframe after import from csv contains missing data for these requirements in °C in the following columns:\n",
    "\n",
    "* *TempAlarmMin*\n",
    "* *TempAlarmMax*\n",
    "* *HumidAlarmMin*\n",
    "* *HumidAlarmMax*\n",
    "\n",
    "Now is a good time to update these column values in each row to the correct parameters in °F based on the value for *LocationID* of each record in our dataframe. \n",
    "\n",
    "* *LocationID* = 2 contain records for the 68° Room \n",
    "* All other *LocationID* records represent locations in the main laboratory"
   ]
  },
  {
   "cell_type": "code",
   "execution_count": 8,
   "metadata": {
    "collapsed": false
   },
   "outputs": [],
   "source": [
    "data.loc[data.LocationID == 2, ['TempAlarmMin', 'TempAlarmMax', 'HumidAlarmMin', 'HumidAlarmMax']] = 67.0, 69.0, 20.0, 50.0\n",
    "data.loc[data.LocationID != 2, ['TempAlarmMin', 'TempAlarmMax', 'HumidAlarmMin', 'HumidAlarmMax']] = 67.0, 79.0, 20.0, 50.0"
   ]
  },
  {
   "cell_type": "markdown",
   "metadata": {},
   "source": [
    "#### Convert 'TempReading' values to °F\n",
    "We should also convert our recorded temperature readings from °C to °F.  "
   ]
  },
  {
   "cell_type": "code",
   "execution_count": 9,
   "metadata": {
    "collapsed": true
   },
   "outputs": [],
   "source": [
    "# Custom function to convert our TempReading values from °C to °F.\n",
    "def convert_temp(raw_temp):\n",
    "    return raw_temp * 1.8 + 32"
   ]
  },
  {
   "cell_type": "code",
   "execution_count": 10,
   "metadata": {
    "collapsed": false
   },
   "outputs": [],
   "source": [
    "data['TempReading'] = data['TempReading'].apply(convert_temp)"
   ]
  },
  {
   "cell_type": "markdown",
   "metadata": {},
   "source": [
    "At this point, the dataset is relatively clean, and ready for analysis. We can now begin grouping and aggregating our data to produce the information needed for our report."
   ]
  },
  {
   "cell_type": "code",
   "execution_count": 12,
   "metadata": {
    "collapsed": false
   },
   "outputs": [
    {
     "data": {
      "text/html": [
       "<div>\n",
       "<table border=\"1\" class=\"dataframe\">\n",
       "  <thead>\n",
       "    <tr style=\"text-align: right;\">\n",
       "      <th></th>\n",
       "      <th>dts</th>\n",
       "      <th>LocationID</th>\n",
       "      <th>TempReading</th>\n",
       "      <th>HumidReading</th>\n",
       "      <th>TempAlarmMin</th>\n",
       "      <th>TempAlarmMax</th>\n",
       "      <th>HumidAlarmMin</th>\n",
       "      <th>HumidAlarmMax</th>\n",
       "    </tr>\n",
       "  </thead>\n",
       "  <tbody>\n",
       "    <tr>\n",
       "      <th>1038415</th>\n",
       "      <td>2016-01-23</td>\n",
       "      <td>2</td>\n",
       "      <td>67.694</td>\n",
       "      <td>27.7</td>\n",
       "      <td>67.0</td>\n",
       "      <td>69.0</td>\n",
       "      <td>20.0</td>\n",
       "      <td>50.0</td>\n",
       "    </tr>\n",
       "    <tr>\n",
       "      <th>1038416</th>\n",
       "      <td>2016-01-23</td>\n",
       "      <td>4</td>\n",
       "      <td>70.700</td>\n",
       "      <td>30.6</td>\n",
       "      <td>67.0</td>\n",
       "      <td>79.0</td>\n",
       "      <td>20.0</td>\n",
       "      <td>50.0</td>\n",
       "    </tr>\n",
       "    <tr>\n",
       "      <th>1038417</th>\n",
       "      <td>2016-01-23</td>\n",
       "      <td>3</td>\n",
       "      <td>72.554</td>\n",
       "      <td>28.2</td>\n",
       "      <td>67.0</td>\n",
       "      <td>79.0</td>\n",
       "      <td>20.0</td>\n",
       "      <td>50.0</td>\n",
       "    </tr>\n",
       "    <tr>\n",
       "      <th>1038418</th>\n",
       "      <td>2016-01-23</td>\n",
       "      <td>6</td>\n",
       "      <td>69.188</td>\n",
       "      <td>32.3</td>\n",
       "      <td>67.0</td>\n",
       "      <td>79.0</td>\n",
       "      <td>20.0</td>\n",
       "      <td>50.0</td>\n",
       "    </tr>\n",
       "    <tr>\n",
       "      <th>1038419</th>\n",
       "      <td>2016-01-23</td>\n",
       "      <td>7</td>\n",
       "      <td>68.126</td>\n",
       "      <td>32.1</td>\n",
       "      <td>67.0</td>\n",
       "      <td>79.0</td>\n",
       "      <td>20.0</td>\n",
       "      <td>50.0</td>\n",
       "    </tr>\n",
       "  </tbody>\n",
       "</table>\n",
       "</div>"
      ],
      "text/plain": [
       "               dts  LocationID  TempReading  HumidReading  TempAlarmMin  \\\n",
       "1038415 2016-01-23           2       67.694          27.7          67.0   \n",
       "1038416 2016-01-23           4       70.700          30.6          67.0   \n",
       "1038417 2016-01-23           3       72.554          28.2          67.0   \n",
       "1038418 2016-01-23           6       69.188          32.3          67.0   \n",
       "1038419 2016-01-23           7       68.126          32.1          67.0   \n",
       "\n",
       "         TempAlarmMax  HumidAlarmMin  HumidAlarmMax  \n",
       "1038415          69.0           20.0           50.0  \n",
       "1038416          79.0           20.0           50.0  \n",
       "1038417          79.0           20.0           50.0  \n",
       "1038418          79.0           20.0           50.0  \n",
       "1038419          79.0           20.0           50.0  "
      ]
     },
     "execution_count": 12,
     "metadata": {},
     "output_type": "execute_result"
    }
   ],
   "source": [
    "data1 = data.copy()\n",
    "data1.head()"
   ]
  },
  {
   "cell_type": "markdown",
   "metadata": {},
   "source": [
    "## Check Point -  Clean Data"
   ]
  },
  {
   "cell_type": "markdown",
   "metadata": {},
   "source": [
    "### Get Time Difference between readings for each location\n",
    "\n",
    "We need to add timedelta column to the dataframe that provides the elapsed time between each records timestamp and the proceding timestamp based on location. \n",
    "\n",
    "The records in our dataset our currently sorted by time. To produce time deltas for each location, we must get the time difference based on location sorted 'dts' column.\n",
    "\n",
    "**_Our Timestamp column('dts') has already been parsed as datetime object, we'll leverage that to create 'TDelta' column for our data frame._**\n",
    "```\n",
    "    In [ ]: data1['dts'].dtype\n",
    "    Out [ ]:dtype('<M8[ns]')\n",
    "```\n"
   ]
  },
  {
   "cell_type": "markdown",
   "metadata": {},
   "source": [
    "1. *Let's select out our timestamp series **_'dts'_** grouped by **_'LocationID'_**.*\n",
    "  - **_`gts`_** will be assigned to our selected *grouped time series*\n",
    "\n",
    "2. *Apply diff method to this grouped time series and pass it back as a new column **_'TDelta'_** to our **_data1_** data frame.* \n",
    "  - **_`data1['TDelta']_** = gts.diff().fillna(0) / np.timedelta64(1,'m')` will give the timedelta between each record for each group, fill all *NaT(Null)* values in the series with 0, and finally reduce our timedelta object to and integer that represents each value in minutes.\n",
    "  "
   ]
  },
  {
   "cell_type": "code",
   "execution_count": 20,
   "metadata": {
    "collapsed": false
   },
   "outputs": [],
   "source": [
    "# Group by 'LocationID', and select the 'dts' column:\n",
    "gts = data1.groupby('LocationID')['dts']\n",
    "# Create new column in our \n",
    "data1['TDelta'] = gts.diff().fillna(0) / np.timedelta64(1,'m')"
   ]
  },
  {
   "cell_type": "markdown",
   "metadata": {},
   "source": [
    "*Let's take a look at the first 5 records of data1 with the newly added **_'TDelta'_** column.*"
   ]
  },
  {
   "cell_type": "code",
   "execution_count": 21,
   "metadata": {
    "collapsed": false
   },
   "outputs": [
    {
     "data": {
      "text/html": [
       "<div>\n",
       "<table border=\"1\" class=\"dataframe\">\n",
       "  <thead>\n",
       "    <tr style=\"text-align: right;\">\n",
       "      <th></th>\n",
       "      <th>dts</th>\n",
       "      <th>LocationID</th>\n",
       "      <th>TempReading</th>\n",
       "      <th>HumidReading</th>\n",
       "      <th>TempAlarmMin</th>\n",
       "      <th>TempAlarmMax</th>\n",
       "      <th>HumidAlarmMin</th>\n",
       "      <th>HumidAlarmMax</th>\n",
       "      <th>TDelta</th>\n",
       "    </tr>\n",
       "  </thead>\n",
       "  <tbody>\n",
       "    <tr>\n",
       "      <th>1038415</th>\n",
       "      <td>2016-01-23</td>\n",
       "      <td>2</td>\n",
       "      <td>67.694</td>\n",
       "      <td>27.7</td>\n",
       "      <td>67.0</td>\n",
       "      <td>69.0</td>\n",
       "      <td>20.0</td>\n",
       "      <td>50.0</td>\n",
       "      <td>0.0</td>\n",
       "    </tr>\n",
       "    <tr>\n",
       "      <th>1038416</th>\n",
       "      <td>2016-01-23</td>\n",
       "      <td>4</td>\n",
       "      <td>70.700</td>\n",
       "      <td>30.6</td>\n",
       "      <td>67.0</td>\n",
       "      <td>79.0</td>\n",
       "      <td>20.0</td>\n",
       "      <td>50.0</td>\n",
       "      <td>0.0</td>\n",
       "    </tr>\n",
       "    <tr>\n",
       "      <th>1038417</th>\n",
       "      <td>2016-01-23</td>\n",
       "      <td>3</td>\n",
       "      <td>72.554</td>\n",
       "      <td>28.2</td>\n",
       "      <td>67.0</td>\n",
       "      <td>79.0</td>\n",
       "      <td>20.0</td>\n",
       "      <td>50.0</td>\n",
       "      <td>0.0</td>\n",
       "    </tr>\n",
       "    <tr>\n",
       "      <th>1038418</th>\n",
       "      <td>2016-01-23</td>\n",
       "      <td>6</td>\n",
       "      <td>69.188</td>\n",
       "      <td>32.3</td>\n",
       "      <td>67.0</td>\n",
       "      <td>79.0</td>\n",
       "      <td>20.0</td>\n",
       "      <td>50.0</td>\n",
       "      <td>0.0</td>\n",
       "    </tr>\n",
       "    <tr>\n",
       "      <th>1038419</th>\n",
       "      <td>2016-01-23</td>\n",
       "      <td>7</td>\n",
       "      <td>68.126</td>\n",
       "      <td>32.1</td>\n",
       "      <td>67.0</td>\n",
       "      <td>79.0</td>\n",
       "      <td>20.0</td>\n",
       "      <td>50.0</td>\n",
       "      <td>0.0</td>\n",
       "    </tr>\n",
       "  </tbody>\n",
       "</table>\n",
       "</div>"
      ],
      "text/plain": [
       "               dts  LocationID  TempReading  HumidReading  TempAlarmMin  \\\n",
       "1038415 2016-01-23           2       67.694          27.7          67.0   \n",
       "1038416 2016-01-23           4       70.700          30.6          67.0   \n",
       "1038417 2016-01-23           3       72.554          28.2          67.0   \n",
       "1038418 2016-01-23           6       69.188          32.3          67.0   \n",
       "1038419 2016-01-23           7       68.126          32.1          67.0   \n",
       "\n",
       "         TempAlarmMax  HumidAlarmMin  HumidAlarmMax  TDelta  \n",
       "1038415          69.0           20.0           50.0     0.0  \n",
       "1038416          79.0           20.0           50.0     0.0  \n",
       "1038417          79.0           20.0           50.0     0.0  \n",
       "1038418          79.0           20.0           50.0     0.0  \n",
       "1038419          79.0           20.0           50.0     0.0  "
      ]
     },
     "execution_count": 21,
     "metadata": {},
     "output_type": "execute_result"
    }
   ],
   "source": [
    "data1.head()"
   ]
  },
  {
   "cell_type": "markdown",
   "metadata": {},
   "source": [
    "*Great! Our working dataframe **`data1`** now includes the column **`TDelta`** and stores the timedelta values as a float in minutes from previous records **`dts`** value based on each records **`LocationID`**. Our data frame should now contain all of the data necessary to build our report.*"
   ]
  },
  {
   "cell_type": "markdown",
   "metadata": {},
   "source": [
    "## Part II: All Records Detail Report"
   ]
  },
  {
   "cell_type": "markdown",
   "metadata": {},
   "source": [
    "### Example: Final Report Dataframe\n",
    "\n",
    "| LOCATION \t| SPECIFICATION               \t| START_DATE \t| END_DATE  \t| FIRST_POINT_RECORDED  \t| LAST_POINT_RECORDED  \t| TOTAL_HOURS_EVALUATED \t| TOTAL_HOURS_RECORDED \t| TOTAL_HOURS_OUT \t| PERCENT_OUT \t| HOURS_TEMP_HIGH \t| HOURS_TEMP_LOW \t| HOURS_RH_HIGH \t| HOURS_RH_LOW \t| HOURS_OVERLAP \t| HOURS_NO_DATA \t| INT_GREATER_THAN_15 \t| HRS_DOWN_FOR_MAINT \t| DUPLICATE_RECORDS \t|\n",
    "|----------\t|-----------------------------\t|------------\t|-----------\t|-----------------------\t|----------------------\t|-----------------------\t|----------------------\t|-----------------\t|-------------\t|-----------------\t|----------------\t|---------------\t|--------------\t|---------------\t|---------------\t|---------------------\t|--------------------\t|-------------------\t|\n",
    "| QA       \t| Temp 73 ± 6° F RH 35% ± 15% \t| 1/23/2016  \t| 1/22/2017 \t| 1/23/2016 12:00:00 AM \t| 1/17/2017 8:45:00 AM \t| 8784.00               \t| 8647.67              \t| 429.17          \t| 4.89 %      \t| 1.75            \t| 3.67           \t| 2.58          \t| 284.92       \t| 0.08          \t| 136.33        \t| 1                   \t| 0.00               \t| 0                 \t|\n",
    "| K3       \t| Temp 73 ± 6° F RH 35% ± 15% \t| 1/23/16    \t| 1/22/17   \t| 1/23/16 0:00          \t| 1/17/17 8:40         \t| 8784                  \t| 8647.58              \t| 183.17          \t| 2.09%       \t| 3.5             \t| 1.5            \t| 0.33          \t| 41.42        \t| 0             \t| 136.42        \t| 1                   \t| 0                  \t| 0                 \t|\n",
    "| 68       \t| Temp 68 ± 1° F RH 35% ± 15% \t| 1/23/16    \t| 1/22/17   \t| 1/23/16 0:00          \t| 1/17/17 8:40         \t| 8784                  \t| 8647.58              \t| 237.41          \t| 2.70%       \t| 10.33           \t| 1.83           \t| 45.42         \t| 43.58        \t| 0.17          \t| 136.42        \t| 1                   \t| 0                  \t| 0                 \t|\n",
    "|          \t|                             \t|            \t|           \t|                       \t|                      \t|                       \t|                      \t|                 \t|             \t|                 \t|                \t|               \t|              \t|               \t|               \t|                     \t|                    \t|                   \t|\n",
    "|          \t|                             \t|            \t|           \t|                       \t|                      \t|                       \t|                      \t|                 \t|             \t|                 \t|                \t|               \t|              \t|               \t|               \t|                     \t|                    \t|                   \t|\n",
    "|          \t|                             \t|            \t|           \t|                       \t|                      \t|                       \t|                      \t|                 \t|             \t|                 \t|                \t|               \t|              \t|               \t|               \t|                     \t|                    \t|                   \t|"
   ]
  },
  {
   "cell_type": "markdown",
   "metadata": {},
   "source": [
    "### Group our entire dataframe by LocationID"
   ]
  },
  {
   "cell_type": "code",
   "execution_count": 22,
   "metadata": {
    "collapsed": false
   },
   "outputs": [],
   "source": [
    "location = {2 : 'K6C', 3 : 'K8', 4 : 'K3', 5 : 'QA', 6 : 'K1', 7 : 'K6', 8 : 'Spare'}"
   ]
  },
  {
   "cell_type": "code",
   "execution_count": 23,
   "metadata": {
    "collapsed": false
   },
   "outputs": [],
   "source": [
    "data1['LocationID'] = data1['LocationID'].map(location)"
   ]
  },
  {
   "cell_type": "code",
   "execution_count": 24,
   "metadata": {
    "collapsed": false
   },
   "outputs": [
    {
     "data": {
      "text/html": [
       "<div>\n",
       "<table border=\"1\" class=\"dataframe\">\n",
       "  <thead>\n",
       "    <tr style=\"text-align: right;\">\n",
       "      <th></th>\n",
       "      <th>dts</th>\n",
       "      <th>LocationID</th>\n",
       "      <th>TempReading</th>\n",
       "      <th>HumidReading</th>\n",
       "      <th>TempAlarmMin</th>\n",
       "      <th>TempAlarmMax</th>\n",
       "      <th>HumidAlarmMin</th>\n",
       "      <th>HumidAlarmMax</th>\n",
       "      <th>TDelta</th>\n",
       "    </tr>\n",
       "  </thead>\n",
       "  <tbody>\n",
       "    <tr>\n",
       "      <th>1038415</th>\n",
       "      <td>2016-01-23</td>\n",
       "      <td>K6C</td>\n",
       "      <td>67.694</td>\n",
       "      <td>27.7</td>\n",
       "      <td>67.0</td>\n",
       "      <td>69.0</td>\n",
       "      <td>20.0</td>\n",
       "      <td>50.0</td>\n",
       "      <td>0.0</td>\n",
       "    </tr>\n",
       "    <tr>\n",
       "      <th>1038416</th>\n",
       "      <td>2016-01-23</td>\n",
       "      <td>K3</td>\n",
       "      <td>70.700</td>\n",
       "      <td>30.6</td>\n",
       "      <td>67.0</td>\n",
       "      <td>79.0</td>\n",
       "      <td>20.0</td>\n",
       "      <td>50.0</td>\n",
       "      <td>0.0</td>\n",
       "    </tr>\n",
       "    <tr>\n",
       "      <th>1038417</th>\n",
       "      <td>2016-01-23</td>\n",
       "      <td>K8</td>\n",
       "      <td>72.554</td>\n",
       "      <td>28.2</td>\n",
       "      <td>67.0</td>\n",
       "      <td>79.0</td>\n",
       "      <td>20.0</td>\n",
       "      <td>50.0</td>\n",
       "      <td>0.0</td>\n",
       "    </tr>\n",
       "    <tr>\n",
       "      <th>1038418</th>\n",
       "      <td>2016-01-23</td>\n",
       "      <td>K1</td>\n",
       "      <td>69.188</td>\n",
       "      <td>32.3</td>\n",
       "      <td>67.0</td>\n",
       "      <td>79.0</td>\n",
       "      <td>20.0</td>\n",
       "      <td>50.0</td>\n",
       "      <td>0.0</td>\n",
       "    </tr>\n",
       "    <tr>\n",
       "      <th>1038419</th>\n",
       "      <td>2016-01-23</td>\n",
       "      <td>K6</td>\n",
       "      <td>68.126</td>\n",
       "      <td>32.1</td>\n",
       "      <td>67.0</td>\n",
       "      <td>79.0</td>\n",
       "      <td>20.0</td>\n",
       "      <td>50.0</td>\n",
       "      <td>0.0</td>\n",
       "    </tr>\n",
       "  </tbody>\n",
       "</table>\n",
       "</div>"
      ],
      "text/plain": [
       "               dts LocationID  TempReading  HumidReading  TempAlarmMin  \\\n",
       "1038415 2016-01-23        K6C       67.694          27.7          67.0   \n",
       "1038416 2016-01-23         K3       70.700          30.6          67.0   \n",
       "1038417 2016-01-23         K8       72.554          28.2          67.0   \n",
       "1038418 2016-01-23         K1       69.188          32.3          67.0   \n",
       "1038419 2016-01-23         K6       68.126          32.1          67.0   \n",
       "\n",
       "         TempAlarmMax  HumidAlarmMin  HumidAlarmMax  TDelta  \n",
       "1038415          69.0           20.0           50.0     0.0  \n",
       "1038416          79.0           20.0           50.0     0.0  \n",
       "1038417          79.0           20.0           50.0     0.0  \n",
       "1038418          79.0           20.0           50.0     0.0  \n",
       "1038419          79.0           20.0           50.0     0.0  "
      ]
     },
     "execution_count": 24,
     "metadata": {},
     "output_type": "execute_result"
    }
   ],
   "source": [
    "data1.head(10)"
   ]
  },
  {
   "cell_type": "code",
   "execution_count": 69,
   "metadata": {
    "collapsed": false
   },
   "outputs": [
    {
     "data": {
      "text/plain": [
       "LocationID\n",
       "K1     103774\n",
       "K3     103773\n",
       "K6     103773\n",
       "K6C    103772\n",
       "K8     103772\n",
       "QA     103774\n",
       "dtype: int64"
      ]
     },
     "execution_count": 69,
     "metadata": {},
     "output_type": "execute_result"
    }
   ],
   "source": [
    "data1.groupby('LocationID').size()\n"
   ]
  },
  {
   "cell_type": "code",
   "execution_count": 47,
   "metadata": {
    "collapsed": false
   },
   "outputs": [],
   "source": [
    "def report_stats = {\n",
    "    'dts': {\n",
    "        'first record': 'min',\n",
    "        'last record' : 'max'\n",
    "    }\n",
    "}"
   ]
  },
  {
   "cell_type": "code",
   "execution_count": 67,
   "metadata": {
    "collapsed": false
   },
   "outputs": [
    {
     "data": {
      "text/plain": [
       "dts              622638\n",
       "LocationID       622638\n",
       "TempReading      622638\n",
       "HumidReading     622638\n",
       "TempAlarmMin     622638\n",
       "TempAlarmMax     622638\n",
       "HumidAlarmMin    622638\n",
       "HumidAlarmMax    622638\n",
       "TDelta           622638\n",
       "dtype: int64"
      ]
     },
     "execution_count": 67,
     "metadata": {},
     "output_type": "execute_result"
    }
   ],
   "source": [
    "temp_bins = [0,67.0,79.0, 1000]\n",
    "temp_groups= ['low', 'good', 'high']\n",
    "\n"
   ]
  },
  {
   "cell_type": "code",
   "execution_count": 74,
   "metadata": {
    "collapsed": false
   },
   "outputs": [
    {
     "name": "stdout",
     "output_type": "stream",
     "text": [
      "               dts  TempReading  HumidReading  TempAlarmMin  TempAlarmMax  \\\n",
      "LocationID                                                                  \n",
      "K1          103774       103774        103774        103774        103774   \n",
      "K3          103773       103773        103773        103773        103773   \n",
      "K6          103773       103773        103773        103773        103773   \n",
      "K6C         103772       103772        103772        103772        103772   \n",
      "K8          103772       103772        103772        103772        103772   \n",
      "QA          103774       103774        103774        103774        103774   \n",
      "\n",
      "            HumidAlarmMin  HumidAlarmMax  TDelta  \n",
      "LocationID                                        \n",
      "K1                 103774         103774  103774  \n",
      "K3                 103773         103773  103773  \n",
      "K6                 103773         103773  103773  \n",
      "K6C                103772         103772  103772  \n",
      "K8                 103772         103772  103772  \n",
      "QA                 103774         103774  103774  \n"
     ]
    }
   ],
   "source": [
    "print(data1.groupby('LocationID').count())"
   ]
  },
  {
   "cell_type": "code",
   "execution_count": 38,
   "metadata": {
    "collapsed": false
   },
   "outputs": [
    {
     "data": {
      "text/plain": [
       "1038415    5\n",
       "Name: dts, dtype: int64"
      ]
     },
     "execution_count": 38,
     "metadata": {},
     "output_type": "execute_result"
    }
   ],
   "source": [
    "data1.iloc[:1]['dts'].dt.weekday"
   ]
  },
  {
   "cell_type": "code",
   "execution_count": null,
   "metadata": {
    "collapsed": false
   },
   "outputs": [],
   "source": [
    "# How many rows the dataset\n",
    "data1['LocationID'].count()"
   ]
  },
  {
   "cell_type": "code",
   "execution_count": null,
   "metadata": {
    "collapsed": false
   },
   "outputs": [],
   "source": [
    "# What was the longest TDelta data entry?\n",
    "data1['TDelta'].max()"
   ]
  },
  {
   "cell_type": "code",
   "execution_count": null,
   "metadata": {
    "collapsed": false
   },
   "outputs": [],
   "source": [
    "# How many minutes of TempAlarmMin == 67.0 are recorded in total?\n",
    "data1['TDelta'][data1['TempAlarmMin'] == 67.0].sum()"
   ]
  },
  {
   "cell_type": "code",
   "execution_count": null,
   "metadata": {
    "collapsed": false
   },
   "outputs": [],
   "source": [
    "# How many entries are there for each location?\n",
    "data1['LocationID'].value_counts()"
   ]
  },
  {
   "cell_type": "code",
   "execution_count": null,
   "metadata": {
    "collapsed": false
   },
   "outputs": [],
   "source": [
    "# Number of non-null unique TempReading entries\n",
    "data1['TempReading'].nunique()"
   ]
  },
  {
   "cell_type": "markdown",
   "metadata": {},
   "source": [
    "#### Summarising Groups in the DataFrame"
   ]
  },
  {
   "cell_type": "code",
   "execution_count": null,
   "metadata": {
    "collapsed": false
   },
   "outputs": [],
   "source": [
    "data1.groupby('LocationID').groups.keys()"
   ]
  },
  {
   "cell_type": "code",
   "execution_count": null,
   "metadata": {
    "collapsed": false
   },
   "outputs": [],
   "source": [
    "len(data1.groupby('LocationID').groups['K1'])"
   ]
  },
  {
   "cell_type": "code",
   "execution_count": null,
   "metadata": {
    "collapsed": false
   },
   "outputs": [],
   "source": [
    "# Get the first entry for each location\n",
    "data1.groupby('LocationID').first()"
   ]
  },
  {
   "cell_type": "code",
   "execution_count": null,
   "metadata": {
    "collapsed": false
   },
   "outputs": [],
   "source": [
    "# Get the sum of the durations per location\n",
    "data1.groupby('LocationID')['TDelta'].sum() / 60"
   ]
  },
  {
   "cell_type": "code",
   "execution_count": null,
   "metadata": {
    "collapsed": false
   },
   "outputs": [],
   "source": [
    "# Get the number of datetimestamps / entries in each location\n",
    "data1.groupby('LocationID')['dts'].count()"
   ]
  },
  {
   "cell_type": "code",
   "execution_count": null,
   "metadata": {
    "collapsed": false
   },
   "outputs": [],
   "source": [
    "# What is the sum of durations, for TempReadings greater than TempAlarmMax for each location\n",
    "data1[data1['TempReading'] > data1['TempAlarmMax']].groupby('LocationID')['TDelta'].sum()"
   ]
  },
  {
   "cell_type": "code",
   "execution_count": null,
   "metadata": {
    "collapsed": true
   },
   "outputs": [],
   "source": [
    "# Group the data frame by location and item and extract a number of stats from each group\n",
    "data1.groupby('LocationID').agg({'Specification': 'String',      # Describe the Temp and Humidity specs for the location\n",
    "                                 'Start Date': 'start_date',     # Insert the report start date variable from user\n",
    "                                 'End Date': 'end_date',         # insert the report start date variable from user\n",
    "                                })    # get the first date per group"
   ]
  },
  {
   "cell_type": "code",
   "execution_count": null,
   "metadata": {
    "collapsed": true
   },
   "outputs": [],
   "source": []
  },
  {
   "cell_type": "code",
   "execution_count": null,
   "metadata": {
    "collapsed": true
   },
   "outputs": [],
   "source": []
  },
  {
   "cell_type": "code",
   "execution_count": null,
   "metadata": {
    "collapsed": true
   },
   "outputs": [],
   "source": []
  },
  {
   "cell_type": "code",
   "execution_count": null,
   "metadata": {
    "collapsed": true
   },
   "outputs": [],
   "source": []
  },
  {
   "cell_type": "code",
   "execution_count": null,
   "metadata": {
    "collapsed": true
   },
   "outputs": [],
   "source": []
  },
  {
   "cell_type": "code",
   "execution_count": null,
   "metadata": {
    "collapsed": true
   },
   "outputs": [],
   "source": []
  },
  {
   "cell_type": "code",
   "execution_count": null,
   "metadata": {
    "collapsed": true
   },
   "outputs": [],
   "source": []
  },
  {
   "cell_type": "code",
   "execution_count": null,
   "metadata": {
    "collapsed": true
   },
   "outputs": [],
   "source": []
  },
  {
   "cell_type": "code",
   "execution_count": null,
   "metadata": {
    "collapsed": true
   },
   "outputs": [],
   "source": []
  },
  {
   "cell_type": "code",
   "execution_count": null,
   "metadata": {
    "collapsed": true
   },
   "outputs": [],
   "source": []
  },
  {
   "cell_type": "code",
   "execution_count": null,
   "metadata": {
    "collapsed": true
   },
   "outputs": [],
   "source": []
  },
  {
   "cell_type": "code",
   "execution_count": null,
   "metadata": {
    "collapsed": false
   },
   "outputs": [],
   "source": [
    "data1['TDelta'][data1['TempReading'] > data1['TempAlarmMax']].sum()"
   ]
  },
  {
   "cell_type": "code",
   "execution_count": null,
   "metadata": {
    "collapsed": false,
    "scrolled": true
   },
   "outputs": [],
   "source": [
    "for k, group in grouped:\n",
    "    eval = []\n",
    "    td = group.index.max() - group.index.min()\n",
    "    td = td.total_seconds()/3600\n",
    "    print(k,td)"
   ]
  },
  {
   "cell_type": "code",
   "execution_count": null,
   "metadata": {
    "collapsed": false
   },
   "outputs": [],
   "source": [
    "# group by LocationID, and select the dts column:\n",
    "gs = data1.groupby('LocationID')['dts']\n",
    "for k in gs:\n",
    "    print(k)\n",
    "    print(g)\n",
    "    "
   ]
  },
  {
   "cell_type": "markdown",
   "metadata": {},
   "source": [
    "### Total Hours Evaluated\n",
    "Report provides information for the number of total hours evaluated of over a user determined time span.\n",
    "    \n",
    "    * send user provided start and end dates to custom function that returns total hours evaluated"
   ]
  },
  {
   "cell_type": "code",
   "execution_count": null,
   "metadata": {
    "collapsed": false
   },
   "outputs": [],
   "source": [
    "data1"
   ]
  },
  {
   "cell_type": "code",
   "execution_count": null,
   "metadata": {
    "collapsed": false
   },
   "outputs": [],
   "source": [
    "data1['TimeDiff'] = gs.diff().fillna(0) / np.timedelta64(1,'m')\n",
    "data1.TimeDiff.dtype"
   ]
  },
  {
   "cell_type": "code",
   "execution_count": null,
   "metadata": {
    "collapsed": false
   },
   "outputs": [],
   "source": [
    "data1.loc[data1['TimeDiff'] !=5.0]"
   ]
  },
  {
   "cell_type": "code",
   "execution_count": null,
   "metadata": {
    "collapsed": false
   },
   "outputs": [],
   "source": [
    "# end_date = datetime(2017, 1, 22, 0, 0, 0)\n",
    "\n",
    "# Custom function to provide timedelta for entire requested date range\n",
    "def hours_eval(start, end):\n",
    "    return (end_date - start_date).total_seconds() / 3600\n",
    "\n",
    "hours_eval(start_date, end_date)"
   ]
  },
  {
   "cell_type": "code",
   "execution_count": null,
   "metadata": {
    "collapsed": false
   },
   "outputs": [],
   "source": [
    "grouped['deltaT'] = grouped.index.to_series().diff().dt.seconds.div(60, fill_value=0)"
   ]
  },
  {
   "cell_type": "code",
   "execution_count": null,
   "metadata": {
    "collapsed": false
   },
   "outputs": [],
   "source": []
  },
  {
   "cell_type": "code",
   "execution_count": null,
   "metadata": {
    "collapsed": true
   },
   "outputs": [],
   "source": []
  },
  {
   "cell_type": "code",
   "execution_count": null,
   "metadata": {
    "collapsed": true
   },
   "outputs": [],
   "source": []
  },
  {
   "cell_type": "code",
   "execution_count": null,
   "metadata": {
    "collapsed": true
   },
   "outputs": [],
   "source": []
  },
  {
   "cell_type": "code",
   "execution_count": null,
   "metadata": {
    "collapsed": true
   },
   "outputs": [],
   "source": []
  },
  {
   "cell_type": "code",
   "execution_count": null,
   "metadata": {
    "collapsed": true
   },
   "outputs": [],
   "source": []
  },
  {
   "cell_type": "markdown",
   "metadata": {},
   "source": [
    "### Step 2: Filter date range dataframe by selected location and create a new dataframe"
   ]
  },
  {
   "cell_type": "markdown",
   "metadata": {},
   "source": [
    "#### Step 2A: Select rows from a DataFrame based on value in 'LocationID'\n",
    "\n"
   ]
  },
  {
   "cell_type": "code",
   "execution_count": null,
   "metadata": {
    "collapsed": false
   },
   "outputs": [],
   "source": [
    "qa_data = data.loc[labdates['LocationID'] == 5]\n",
    "qa_data.head()"
   ]
  },
  {
   "cell_type": "markdown",
   "metadata": {},
   "source": [
    "### Step 3: Gather report data"
   ]
  },
  {
   "cell_type": "markdown",
   "metadata": {},
   "source": [
    "#### Step 3A: Get first and last point recorded"
   ]
  },
  {
   "cell_type": "code",
   "execution_count": null,
   "metadata": {
    "collapsed": false
   },
   "outputs": [],
   "source": [
    "qa_data.index = qa_data['DateTimeStamp']\n",
    "del qa_data['DateTimeStamp']\n",
    "qa_data"
   ]
  },
  {
   "cell_type": "code",
   "execution_count": null,
   "metadata": {
    "collapsed": false
   },
   "outputs": [],
   "source": [
    "qa_min_date = qa_data.index.min()\n",
    "qa_max_date = qa_data.index.max()\n",
    "print(qa_min_date, qa_max_date)"
   ]
  },
  {
   "cell_type": "code",
   "execution_count": null,
   "metadata": {
    "collapsed": false
   },
   "outputs": [],
   "source": [
    "printqa_min_date\n"
   ]
  },
  {
   "cell_type": "code",
   "execution_count": null,
   "metadata": {
    "collapsed": true
   },
   "outputs": [],
   "source": []
  },
  {
   "cell_type": "code",
   "execution_count": null,
   "metadata": {
    "collapsed": true
   },
   "outputs": [],
   "source": []
  },
  {
   "cell_type": "code",
   "execution_count": null,
   "metadata": {
    "collapsed": true
   },
   "outputs": [],
   "source": []
  },
  {
   "cell_type": "code",
   "execution_count": null,
   "metadata": {
    "collapsed": true
   },
   "outputs": [],
   "source": []
  },
  {
   "cell_type": "code",
   "execution_count": null,
   "metadata": {
    "collapsed": true
   },
   "outputs": [],
   "source": []
  },
  {
   "cell_type": "code",
   "execution_count": null,
   "metadata": {
    "collapsed": true
   },
   "outputs": [],
   "source": []
  },
  {
   "cell_type": "code",
   "execution_count": null,
   "metadata": {
    "collapsed": true
   },
   "outputs": [],
   "source": []
  },
  {
   "cell_type": "code",
   "execution_count": null,
   "metadata": {
    "collapsed": true
   },
   "outputs": [],
   "source": []
  },
  {
   "cell_type": "code",
   "execution_count": null,
   "metadata": {
    "collapsed": true
   },
   "outputs": [],
   "source": []
  },
  {
   "cell_type": "code",
   "execution_count": null,
   "metadata": {
    "collapsed": true
   },
   "outputs": [],
   "source": []
  },
  {
   "cell_type": "code",
   "execution_count": null,
   "metadata": {
    "collapsed": true
   },
   "outputs": [],
   "source": []
  },
  {
   "cell_type": "code",
   "execution_count": null,
   "metadata": {
    "collapsed": true
   },
   "outputs": [],
   "source": []
  },
  {
   "cell_type": "code",
   "execution_count": null,
   "metadata": {
    "collapsed": true
   },
   "outputs": [],
   "source": []
  },
  {
   "cell_type": "code",
   "execution_count": null,
   "metadata": {
    "collapsed": true
   },
   "outputs": [],
   "source": []
  },
  {
   "cell_type": "code",
   "execution_count": null,
   "metadata": {
    "collapsed": true
   },
   "outputs": [],
   "source": []
  },
  {
   "cell_type": "code",
   "execution_count": null,
   "metadata": {
    "collapsed": true
   },
   "outputs": [],
   "source": []
  },
  {
   "cell_type": "code",
   "execution_count": null,
   "metadata": {
    "collapsed": true
   },
   "outputs": [],
   "source": []
  },
  {
   "cell_type": "code",
   "execution_count": null,
   "metadata": {
    "collapsed": true
   },
   "outputs": [],
   "source": []
  },
  {
   "cell_type": "code",
   "execution_count": null,
   "metadata": {
    "collapsed": true
   },
   "outputs": [],
   "source": []
  },
  {
   "cell_type": "code",
   "execution_count": null,
   "metadata": {
    "collapsed": true
   },
   "outputs": [],
   "source": []
  },
  {
   "cell_type": "code",
   "execution_count": null,
   "metadata": {
    "collapsed": true
   },
   "outputs": [],
   "source": []
  },
  {
   "cell_type": "code",
   "execution_count": null,
   "metadata": {
    "collapsed": true
   },
   "outputs": [],
   "source": []
  },
  {
   "cell_type": "code",
   "execution_count": null,
   "metadata": {
    "collapsed": true
   },
   "outputs": [],
   "source": []
  },
  {
   "cell_type": "code",
   "execution_count": null,
   "metadata": {
    "collapsed": true
   },
   "outputs": [],
   "source": []
  },
  {
   "cell_type": "code",
   "execution_count": null,
   "metadata": {
    "collapsed": true
   },
   "outputs": [],
   "source": []
  },
  {
   "cell_type": "code",
   "execution_count": null,
   "metadata": {
    "collapsed": true
   },
   "outputs": [],
   "source": []
  },
  {
   "cell_type": "code",
   "execution_count": null,
   "metadata": {
    "collapsed": true
   },
   "outputs": [],
   "source": []
  },
  {
   "cell_type": "code",
   "execution_count": null,
   "metadata": {
    "collapsed": true
   },
   "outputs": [],
   "source": []
  },
  {
   "cell_type": "code",
   "execution_count": null,
   "metadata": {
    "collapsed": true
   },
   "outputs": [],
   "source": []
  },
  {
   "cell_type": "code",
   "execution_count": null,
   "metadata": {
    "collapsed": true
   },
   "outputs": [],
   "source": []
  },
  {
   "cell_type": "code",
   "execution_count": null,
   "metadata": {
    "collapsed": true
   },
   "outputs": [],
   "source": []
  },
  {
   "cell_type": "code",
   "execution_count": null,
   "metadata": {
    "collapsed": true
   },
   "outputs": [],
   "source": []
  },
  {
   "cell_type": "code",
   "execution_count": null,
   "metadata": {
    "collapsed": true
   },
   "outputs": [],
   "source": []
  },
  {
   "cell_type": "code",
   "execution_count": null,
   "metadata": {
    "collapsed": true
   },
   "outputs": [],
   "source": []
  },
  {
   "cell_type": "code",
   "execution_count": null,
   "metadata": {
    "collapsed": true
   },
   "outputs": [],
   "source": []
  },
  {
   "cell_type": "code",
   "execution_count": null,
   "metadata": {
    "collapsed": true
   },
   "outputs": [],
   "source": []
  },
  {
   "cell_type": "code",
   "execution_count": null,
   "metadata": {
    "collapsed": true
   },
   "outputs": [],
   "source": []
  },
  {
   "cell_type": "code",
   "execution_count": null,
   "metadata": {
    "collapsed": true
   },
   "outputs": [],
   "source": []
  },
  {
   "cell_type": "code",
   "execution_count": null,
   "metadata": {
    "collapsed": true
   },
   "outputs": [],
   "source": []
  },
  {
   "cell_type": "code",
   "execution_count": null,
   "metadata": {
    "collapsed": true
   },
   "outputs": [],
   "source": []
  },
  {
   "cell_type": "code",
   "execution_count": null,
   "metadata": {
    "collapsed": true
   },
   "outputs": [],
   "source": []
  },
  {
   "cell_type": "code",
   "execution_count": null,
   "metadata": {
    "collapsed": true
   },
   "outputs": [],
   "source": []
  },
  {
   "cell_type": "code",
   "execution_count": null,
   "metadata": {
    "collapsed": true
   },
   "outputs": [],
   "source": []
  },
  {
   "cell_type": "code",
   "execution_count": null,
   "metadata": {
    "collapsed": true
   },
   "outputs": [],
   "source": []
  },
  {
   "cell_type": "code",
   "execution_count": null,
   "metadata": {
    "collapsed": true
   },
   "outputs": [],
   "source": []
  },
  {
   "cell_type": "code",
   "execution_count": null,
   "metadata": {
    "collapsed": true
   },
   "outputs": [],
   "source": []
  },
  {
   "cell_type": "code",
   "execution_count": null,
   "metadata": {
    "collapsed": true
   },
   "outputs": [],
   "source": []
  },
  {
   "cell_type": "code",
   "execution_count": null,
   "metadata": {
    "collapsed": true
   },
   "outputs": [],
   "source": []
  },
  {
   "cell_type": "code",
   "execution_count": null,
   "metadata": {
    "collapsed": true
   },
   "outputs": [],
   "source": []
  },
  {
   "cell_type": "code",
   "execution_count": null,
   "metadata": {
    "collapsed": true
   },
   "outputs": [],
   "source": []
  },
  {
   "cell_type": "code",
   "execution_count": null,
   "metadata": {
    "collapsed": true
   },
   "outputs": [],
   "source": []
  },
  {
   "cell_type": "code",
   "execution_count": null,
   "metadata": {
    "collapsed": true
   },
   "outputs": [],
   "source": []
  },
  {
   "cell_type": "code",
   "execution_count": null,
   "metadata": {
    "collapsed": true
   },
   "outputs": [],
   "source": []
  },
  {
   "cell_type": "code",
   "execution_count": null,
   "metadata": {
    "collapsed": true
   },
   "outputs": [],
   "source": []
  },
  {
   "cell_type": "code",
   "execution_count": null,
   "metadata": {
    "collapsed": true
   },
   "outputs": [],
   "source": []
  },
  {
   "cell_type": "code",
   "execution_count": null,
   "metadata": {
    "collapsed": true
   },
   "outputs": [],
   "source": []
  },
  {
   "cell_type": "code",
   "execution_count": null,
   "metadata": {
    "collapsed": true
   },
   "outputs": [],
   "source": []
  },
  {
   "cell_type": "code",
   "execution_count": null,
   "metadata": {
    "collapsed": true
   },
   "outputs": [],
   "source": []
  },
  {
   "cell_type": "code",
   "execution_count": null,
   "metadata": {
    "collapsed": true
   },
   "outputs": [],
   "source": []
  },
  {
   "cell_type": "code",
   "execution_count": null,
   "metadata": {
    "collapsed": true
   },
   "outputs": [],
   "source": []
  },
  {
   "cell_type": "code",
   "execution_count": null,
   "metadata": {
    "collapsed": true
   },
   "outputs": [],
   "source": []
  },
  {
   "cell_type": "code",
   "execution_count": null,
   "metadata": {
    "collapsed": true
   },
   "outputs": [],
   "source": []
  },
  {
   "cell_type": "code",
   "execution_count": null,
   "metadata": {
    "collapsed": true
   },
   "outputs": [],
   "source": []
  },
  {
   "cell_type": "code",
   "execution_count": null,
   "metadata": {
    "collapsed": true
   },
   "outputs": [],
   "source": []
  },
  {
   "cell_type": "code",
   "execution_count": null,
   "metadata": {
    "collapsed": true
   },
   "outputs": [],
   "source": []
  },
  {
   "cell_type": "code",
   "execution_count": null,
   "metadata": {
    "collapsed": true
   },
   "outputs": [],
   "source": []
  },
  {
   "cell_type": "code",
   "execution_count": null,
   "metadata": {
    "collapsed": true
   },
   "outputs": [],
   "source": []
  },
  {
   "cell_type": "code",
   "execution_count": null,
   "metadata": {
    "collapsed": true
   },
   "outputs": [],
   "source": []
  },
  {
   "cell_type": "code",
   "execution_count": null,
   "metadata": {
    "collapsed": true
   },
   "outputs": [],
   "source": []
  },
  {
   "cell_type": "code",
   "execution_count": null,
   "metadata": {
    "collapsed": true
   },
   "outputs": [],
   "source": []
  },
  {
   "cell_type": "code",
   "execution_count": null,
   "metadata": {
    "collapsed": true
   },
   "outputs": [],
   "source": []
  },
  {
   "cell_type": "code",
   "execution_count": null,
   "metadata": {
    "collapsed": true
   },
   "outputs": [],
   "source": []
  },
  {
   "cell_type": "code",
   "execution_count": null,
   "metadata": {
    "collapsed": true
   },
   "outputs": [],
   "source": []
  },
  {
   "cell_type": "code",
   "execution_count": null,
   "metadata": {
    "collapsed": true
   },
   "outputs": [],
   "source": []
  },
  {
   "cell_type": "code",
   "execution_count": null,
   "metadata": {
    "collapsed": true
   },
   "outputs": [],
   "source": []
  },
  {
   "cell_type": "code",
   "execution_count": null,
   "metadata": {
    "collapsed": true
   },
   "outputs": [],
   "source": []
  },
  {
   "cell_type": "code",
   "execution_count": null,
   "metadata": {
    "collapsed": true
   },
   "outputs": [],
   "source": []
  },
  {
   "cell_type": "code",
   "execution_count": null,
   "metadata": {
    "collapsed": true
   },
   "outputs": [],
   "source": []
  },
  {
   "cell_type": "code",
   "execution_count": null,
   "metadata": {
    "collapsed": true
   },
   "outputs": [],
   "source": []
  },
  {
   "cell_type": "code",
   "execution_count": null,
   "metadata": {
    "collapsed": true
   },
   "outputs": [],
   "source": []
  },
  {
   "cell_type": "code",
   "execution_count": null,
   "metadata": {
    "collapsed": true
   },
   "outputs": [],
   "source": []
  },
  {
   "cell_type": "code",
   "execution_count": null,
   "metadata": {
    "collapsed": true
   },
   "outputs": [],
   "source": []
  },
  {
   "cell_type": "code",
   "execution_count": null,
   "metadata": {
    "collapsed": true
   },
   "outputs": [],
   "source": []
  },
  {
   "cell_type": "code",
   "execution_count": null,
   "metadata": {
    "collapsed": true
   },
   "outputs": [],
   "source": []
  },
  {
   "cell_type": "code",
   "execution_count": null,
   "metadata": {
    "collapsed": true
   },
   "outputs": [],
   "source": []
  },
  {
   "cell_type": "code",
   "execution_count": null,
   "metadata": {
    "collapsed": true
   },
   "outputs": [],
   "source": []
  },
  {
   "cell_type": "code",
   "execution_count": null,
   "metadata": {
    "collapsed": false
   },
   "outputs": [],
   "source": [
    "lab_data['DateTimeStamp'].dtype"
   ]
  },
  {
   "cell_type": "code",
   "execution_count": null,
   "metadata": {
    "collapsed": false
   },
   "outputs": [],
   "source": [
    "lab_data.describe()"
   ]
  },
  {
   "cell_type": "markdown",
   "metadata": {},
   "source": [
    "###  Validate imported data"
   ]
  },
  {
   "cell_type": "markdown",
   "metadata": {},
   "source": [
    "###### Inspect data"
   ]
  },
  {
   "cell_type": "code",
   "execution_count": null,
   "metadata": {
    "collapsed": false
   },
   "outputs": [],
   "source": [
    "lab_data"
   ]
  },
  {
   "cell_type": "markdown",
   "metadata": {},
   "source": [
    "###### Inspect columns"
   ]
  },
  {
   "cell_type": "code",
   "execution_count": null,
   "metadata": {
    "collapsed": false,
    "scrolled": false
   },
   "outputs": [],
   "source": [
    "lab_data.columns"
   ]
  },
  {
   "cell_type": "markdown",
   "metadata": {},
   "source": [
    "###### Inspect shape"
   ]
  },
  {
   "cell_type": "code",
   "execution_count": null,
   "metadata": {
    "collapsed": false
   },
   "outputs": [],
   "source": [
    "lab_data.shape"
   ]
  },
  {
   "cell_type": "markdown",
   "metadata": {},
   "source": [
    "###### Create dataframe for missing values"
   ]
  },
  {
   "cell_type": "code",
   "execution_count": null,
   "metadata": {
    "collapsed": false
   },
   "outputs": [],
   "source": [
    "null_data = lab_dtc[lab_dtc.isnull().any(axis=1)]\n",
    "null_data"
   ]
  },
  {
   "cell_type": "markdown",
   "metadata": {},
   "source": [
    "###### Update Temperature and Humidity criteria based on location\n",
    "\n",
    "Primary report criteria is based on laboratory environmental requirements. The environmental requirements are determined by location as follows:\n",
    "\n",
    "* **68° Room**\n",
    "  * Temperature: 68 ± 1 °F  \n",
    "  * Relative Humidity: 35% ± 15%\n",
    "* **Main Laboratory**\n",
    "  * Temperature: 73 ± 6 °F\n",
    "  * Relative Humidity: 35% ± 15%\n",
    "\n",
    "Our dataframe after import from csv contains incomplete data for these requirements in °C in the following columns:\n",
    "\n",
    "* *TempAlarmMin*\n",
    "* *TempAlarmMax*\n",
    "* *HumidAlarmMin*\n",
    "* *HumidAlarmMax*\n",
    "\n",
    "Now is a good time to update the values in each of these columns to the correct parameters based on *LocationID* of each record in our dataframe. \n",
    "\n",
    "* *LocationID* = 2 contain records for the 68° Room \n",
    "* All other *LocationID* records represent locations in the main laboratory\n",
    "\n"
   ]
  },
  {
   "cell_type": "code",
   "execution_count": null,
   "metadata": {
    "collapsed": false
   },
   "outputs": [],
   "source": [
    "lab_data['LocationID'].unique()"
   ]
  },
  {
   "cell_type": "code",
   "execution_count": null,
   "metadata": {
    "collapsed": false
   },
   "outputs": [],
   "source": [
    "lab_data.loc[lab_data.LocationID == 2, ['TempAlarmMin', 'TempAlarmMax', 'HumidAlarmMin', 'HumidAlarmMax']] = 67.0, 69.0, 20.0, 50.0\n",
    "lab_data.loc[lab_data.LocationID != 2, ['TempAlarmMin', 'TempAlarmMax', 'HumidAlarmMin', 'HumidAlarmMax']] = 67.0, 79.0, 20.0, 50.0"
   ]
  },
  {
   "cell_type": "markdown",
   "metadata": {},
   "source": [
    "### Convert Temperatures to °F "
   ]
  },
  {
   "cell_type": "markdown",
   "metadata": {},
   "source": [
    "###### Function to convert °C to °F"
   ]
  },
  {
   "cell_type": "code",
   "execution_count": null,
   "metadata": {
    "collapsed": true
   },
   "outputs": [],
   "source": [
    "def convert_temp(raw_temp):\n",
    "    return raw_temp * 1.8 + 32"
   ]
  },
  {
   "cell_type": "code",
   "execution_count": null,
   "metadata": {
    "collapsed": false
   },
   "outputs": [],
   "source": [
    "lab_data['TempReading'] = lab_data['TempReading'].apply(convert_temp)\n",
    "\n",
    "lab_data"
   ]
  },
  {
   "cell_type": "code",
   "execution_count": null,
   "metadata": {
    "collapsed": false
   },
   "outputs": [],
   "source": [
    "lab_data_clean = lab_data"
   ]
  },
  {
   "cell_type": "code",
   "execution_count": null,
   "metadata": {
    "collapsed": false
   },
   "outputs": [],
   "source": [
    "lab_data.describe()"
   ]
  },
  {
   "cell_type": "code",
   "execution_count": null,
   "metadata": {
    "collapsed": false
   },
   "outputs": [],
   "source": [
    "lab_data.DateTimeStamp.dtype"
   ]
  },
  {
   "cell_type": "code",
   "execution_count": null,
   "metadata": {
    "collapsed": true
   },
   "outputs": [],
   "source": [
    "mask = (lab_data['DateTimeStamp'] > '2016-1-27') & (lab_data['DateTimeStamp'] <= '2017-1-27')"
   ]
  },
  {
   "cell_type": "code",
   "execution_count": null,
   "metadata": {
    "collapsed": false
   },
   "outputs": [],
   "source": [
    "lab_data.loc[mask].plot()"
   ]
  },
  {
   "cell_type": "code",
   "execution_count": null,
   "metadata": {
    "collapsed": true
   },
   "outputs": [],
   "source": []
  },
  {
   "cell_type": "code",
   "execution_count": null,
   "metadata": {
    "collapsed": true
   },
   "outputs": [],
   "source": []
  },
  {
   "cell_type": "code",
   "execution_count": null,
   "metadata": {
    "collapsed": true
   },
   "outputs": [],
   "source": []
  },
  {
   "cell_type": "code",
   "execution_count": null,
   "metadata": {
    "collapsed": true
   },
   "outputs": [],
   "source": []
  },
  {
   "cell_type": "code",
   "execution_count": null,
   "metadata": {
    "collapsed": true
   },
   "outputs": [],
   "source": []
  },
  {
   "cell_type": "code",
   "execution_count": null,
   "metadata": {
    "collapsed": true
   },
   "outputs": [],
   "source": []
  },
  {
   "cell_type": "code",
   "execution_count": null,
   "metadata": {
    "collapsed": true
   },
   "outputs": [],
   "source": []
  },
  {
   "cell_type": "code",
   "execution_count": null,
   "metadata": {
    "collapsed": true
   },
   "outputs": [],
   "source": []
  },
  {
   "cell_type": "code",
   "execution_count": null,
   "metadata": {
    "collapsed": true
   },
   "outputs": [],
   "source": []
  },
  {
   "cell_type": "code",
   "execution_count": null,
   "metadata": {
    "collapsed": true
   },
   "outputs": [],
   "source": []
  },
  {
   "cell_type": "code",
   "execution_count": null,
   "metadata": {
    "collapsed": true
   },
   "outputs": [],
   "source": []
  },
  {
   "cell_type": "code",
   "execution_count": null,
   "metadata": {
    "collapsed": true
   },
   "outputs": [],
   "source": []
  },
  {
   "cell_type": "code",
   "execution_count": null,
   "metadata": {
    "collapsed": true
   },
   "outputs": [],
   "source": []
  },
  {
   "cell_type": "code",
   "execution_count": null,
   "metadata": {
    "collapsed": true
   },
   "outputs": [],
   "source": []
  },
  {
   "cell_type": "code",
   "execution_count": null,
   "metadata": {
    "collapsed": true
   },
   "outputs": [],
   "source": []
  },
  {
   "cell_type": "code",
   "execution_count": null,
   "metadata": {
    "collapsed": true
   },
   "outputs": [],
   "source": []
  },
  {
   "cell_type": "code",
   "execution_count": null,
   "metadata": {
    "collapsed": true
   },
   "outputs": [],
   "source": []
  },
  {
   "cell_type": "code",
   "execution_count": null,
   "metadata": {
    "collapsed": true
   },
   "outputs": [],
   "source": []
  },
  {
   "cell_type": "code",
   "execution_count": null,
   "metadata": {
    "collapsed": true
   },
   "outputs": [],
   "source": []
  },
  {
   "cell_type": "code",
   "execution_count": null,
   "metadata": {
    "collapsed": true
   },
   "outputs": [],
   "source": []
  },
  {
   "cell_type": "code",
   "execution_count": null,
   "metadata": {
    "collapsed": true
   },
   "outputs": [],
   "source": []
  },
  {
   "cell_type": "code",
   "execution_count": null,
   "metadata": {
    "collapsed": true
   },
   "outputs": [],
   "source": []
  },
  {
   "cell_type": "code",
   "execution_count": null,
   "metadata": {
    "collapsed": true
   },
   "outputs": [],
   "source": []
  },
  {
   "cell_type": "code",
   "execution_count": null,
   "metadata": {
    "collapsed": true
   },
   "outputs": [],
   "source": []
  },
  {
   "cell_type": "code",
   "execution_count": null,
   "metadata": {
    "collapsed": true
   },
   "outputs": [],
   "source": []
  },
  {
   "cell_type": "code",
   "execution_count": null,
   "metadata": {
    "collapsed": true
   },
   "outputs": [],
   "source": []
  },
  {
   "cell_type": "code",
   "execution_count": null,
   "metadata": {
    "collapsed": true
   },
   "outputs": [],
   "source": []
  },
  {
   "cell_type": "code",
   "execution_count": null,
   "metadata": {
    "collapsed": true
   },
   "outputs": [],
   "source": []
  },
  {
   "cell_type": "code",
   "execution_count": null,
   "metadata": {
    "collapsed": true
   },
   "outputs": [],
   "source": []
  },
  {
   "cell_type": "code",
   "execution_count": null,
   "metadata": {
    "collapsed": true
   },
   "outputs": [],
   "source": []
  },
  {
   "cell_type": "code",
   "execution_count": null,
   "metadata": {
    "collapsed": true
   },
   "outputs": [],
   "source": []
  },
  {
   "cell_type": "code",
   "execution_count": null,
   "metadata": {
    "collapsed": true
   },
   "outputs": [],
   "source": []
  },
  {
   "cell_type": "code",
   "execution_count": null,
   "metadata": {
    "collapsed": true
   },
   "outputs": [],
   "source": []
  },
  {
   "cell_type": "code",
   "execution_count": null,
   "metadata": {
    "collapsed": true
   },
   "outputs": [],
   "source": []
  },
  {
   "cell_type": "code",
   "execution_count": null,
   "metadata": {
    "collapsed": true
   },
   "outputs": [],
   "source": []
  },
  {
   "cell_type": "code",
   "execution_count": null,
   "metadata": {
    "collapsed": true
   },
   "outputs": [],
   "source": []
  },
  {
   "cell_type": "code",
   "execution_count": null,
   "metadata": {
    "collapsed": true
   },
   "outputs": [],
   "source": []
  },
  {
   "cell_type": "code",
   "execution_count": null,
   "metadata": {
    "collapsed": false
   },
   "outputs": [],
   "source": [
    "lab_data.columns"
   ]
  },
  {
   "cell_type": "code",
   "execution_count": null,
   "metadata": {
    "collapsed": false
   },
   "outputs": [],
   "source": [
    "lab_data[['TempReading', 'HumidReading', 'TempAlarmMin',\n",
    "       'TempAlarmMax', 'HumidAlarmMin', 'HumidAlarmMax']].plot()"
   ]
  },
  {
   "cell_type": "code",
   "execution_count": null,
   "metadata": {
    "collapsed": true
   },
   "outputs": [],
   "source": []
  },
  {
   "cell_type": "code",
   "execution_count": null,
   "metadata": {
    "collapsed": true
   },
   "outputs": [],
   "source": []
  },
  {
   "cell_type": "code",
   "execution_count": null,
   "metadata": {
    "collapsed": true
   },
   "outputs": [],
   "source": []
  },
  {
   "cell_type": "code",
   "execution_count": null,
   "metadata": {
    "collapsed": true
   },
   "outputs": [],
   "source": []
  },
  {
   "cell_type": "code",
   "execution_count": null,
   "metadata": {
    "collapsed": true
   },
   "outputs": [],
   "source": []
  },
  {
   "cell_type": "code",
   "execution_count": null,
   "metadata": {
    "collapsed": true
   },
   "outputs": [],
   "source": []
  },
  {
   "cell_type": "code",
   "execution_count": null,
   "metadata": {
    "collapsed": true
   },
   "outputs": [],
   "source": []
  },
  {
   "cell_type": "code",
   "execution_count": null,
   "metadata": {
    "collapsed": true
   },
   "outputs": [],
   "source": []
  },
  {
   "cell_type": "code",
   "execution_count": null,
   "metadata": {
    "collapsed": true
   },
   "outputs": [],
   "source": []
  },
  {
   "cell_type": "code",
   "execution_count": null,
   "metadata": {
    "collapsed": true
   },
   "outputs": [],
   "source": []
  },
  {
   "cell_type": "code",
   "execution_count": null,
   "metadata": {
    "collapsed": true
   },
   "outputs": [],
   "source": []
  },
  {
   "cell_type": "code",
   "execution_count": null,
   "metadata": {
    "collapsed": true
   },
   "outputs": [],
   "source": []
  },
  {
   "cell_type": "code",
   "execution_count": null,
   "metadata": {
    "collapsed": true
   },
   "outputs": [],
   "source": []
  },
  {
   "cell_type": "code",
   "execution_count": null,
   "metadata": {
    "collapsed": true
   },
   "outputs": [],
   "source": []
  },
  {
   "cell_type": "code",
   "execution_count": null,
   "metadata": {
    "collapsed": true
   },
   "outputs": [],
   "source": []
  },
  {
   "cell_type": "code",
   "execution_count": null,
   "metadata": {
    "collapsed": true
   },
   "outputs": [],
   "source": []
  },
  {
   "cell_type": "code",
   "execution_count": null,
   "metadata": {
    "collapsed": true
   },
   "outputs": [],
   "source": []
  },
  {
   "cell_type": "code",
   "execution_count": null,
   "metadata": {
    "collapsed": true
   },
   "outputs": [],
   "source": []
  },
  {
   "cell_type": "code",
   "execution_count": null,
   "metadata": {
    "collapsed": true
   },
   "outputs": [],
   "source": []
  },
  {
   "cell_type": "code",
   "execution_count": null,
   "metadata": {
    "collapsed": true
   },
   "outputs": [],
   "source": []
  },
  {
   "cell_type": "code",
   "execution_count": null,
   "metadata": {
    "collapsed": true
   },
   "outputs": [],
   "source": []
  },
  {
   "cell_type": "code",
   "execution_count": null,
   "metadata": {
    "collapsed": true
   },
   "outputs": [],
   "source": []
  },
  {
   "cell_type": "code",
   "execution_count": null,
   "metadata": {
    "collapsed": true
   },
   "outputs": [],
   "source": []
  },
  {
   "cell_type": "code",
   "execution_count": null,
   "metadata": {
    "collapsed": true
   },
   "outputs": [],
   "source": []
  },
  {
   "cell_type": "code",
   "execution_count": null,
   "metadata": {
    "collapsed": true
   },
   "outputs": [],
   "source": []
  },
  {
   "cell_type": "code",
   "execution_count": null,
   "metadata": {
    "collapsed": true
   },
   "outputs": [],
   "source": []
  },
  {
   "cell_type": "code",
   "execution_count": null,
   "metadata": {
    "collapsed": true
   },
   "outputs": [],
   "source": [
    "lab_data2 = lab_data"
   ]
  },
  {
   "cell_type": "code",
   "execution_count": null,
   "metadata": {
    "collapsed": true
   },
   "outputs": [],
   "source": [
    "bylocation = lab_data.groupby('LocationID')"
   ]
  },
  {
   "cell_type": "code",
   "execution_count": null,
   "metadata": {
    "collapsed": false
   },
   "outputs": [],
   "source": [
    "bylocation[['TempReading', 'HumidReading']].agg([np.min, np.max, np.mean])"
   ]
  },
  {
   "cell_type": "code",
   "execution_count": null,
   "metadata": {
    "collapsed": false
   },
   "outputs": [],
   "source": [
    "locations.describe()"
   ]
  },
  {
   "cell_type": "code",
   "execution_count": null,
   "metadata": {
    "collapsed": false
   },
   "outputs": [],
   "source": [
    "def subset_loc(df_raw, locations):\n",
    "    loc_frame = None\n",
    "    for loc in locations:\n",
    "        loc_frame = df_raw[df_raw.LocationID.isin(locations)]\n",
    "    print(loc_frame)\n",
    "    return loc_frame\n",
    "\n",
    "subset_loc(lab_data, locs)\n",
    "        "
   ]
  },
  {
   "cell_type": "code",
   "execution_count": null,
   "metadata": {
    "collapsed": true
   },
   "outputs": [],
   "source": [
    "k6c_data = lab_data[lab_data.LocationID == 2]"
   ]
  },
  {
   "cell_type": "code",
   "execution_count": null,
   "metadata": {
    "collapsed": false
   },
   "outputs": [],
   "source": [
    "k6c_data.dtypes"
   ]
  },
  {
   "cell_type": "code",
   "execution_count": null,
   "metadata": {
    "collapsed": false
   },
   "outputs": [],
   "source": [
    "first_date = k6c_data.DateTimeStamp.values[6]\n",
    "first_date"
   ]
  },
  {
   "cell_type": "code",
   "execution_count": null,
   "metadata": {
    "collapsed": false
   },
   "outputs": [],
   "source": [
    "locations = pd.read_csv('data/Locations.csv')\n",
    "location = locations.set_index('LocationID')['Name'].to_dict()\n",
    "location"
   ]
  },
  {
   "cell_type": "code",
   "execution_count": null,
   "metadata": {
    "collapsed": false
   },
   "outputs": [],
   "source": [
    "def get_loc(key, default=None):\n",
    "    k = int(key)\n",
    "    if k in location:\n",
    "        return location[k]\n",
    "    else:\n",
    "        return default"
   ]
  },
  {
   "cell_type": "code",
   "execution_count": null,
   "metadata": {
    "collapsed": true
   },
   "outputs": [],
   "source": [
    "loggers = pd.read_csv('data/Loggers.csv')"
   ]
  },
  {
   "cell_type": "code",
   "execution_count": null,
   "metadata": {
    "collapsed": false
   },
   "outputs": [],
   "source": [
    "loggers = pd.read_csv('data/Loggers.csv')\n",
    "logger = loggers.set_index('LoggerID')['Serial'].to_dict()\n",
    "logger"
   ]
  },
  {
   "cell_type": "code",
   "execution_count": null,
   "metadata": {
    "collapsed": false
   },
   "outputs": [],
   "source": [
    "def get_logger(key, default=None):\n",
    "    k = int(key)\n",
    "    if k in location:\n",
    "        return logger[k]\n",
    "    else:\n",
    "        return default"
   ]
  },
  {
   "cell_type": "code",
   "execution_count": null,
   "metadata": {
    "collapsed": false
   },
   "outputs": [],
   "source": [
    "sensors = pd.read_csv('data/Sensors.csv')\n",
    "sensor = sensors.set_index('SensorID')['Serial'].to_dict()\n",
    "sensor"
   ]
  },
  {
   "cell_type": "code",
   "execution_count": null,
   "metadata": {
    "collapsed": false
   },
   "outputs": [],
   "source": [
    "def get_sensor(key, default=None):\n",
    "    k = int(key)\n",
    "    if k in location:\n",
    "        return sensor[k]\n",
    "    else:\n",
    "        return default"
   ]
  },
  {
   "cell_type": "code",
   "execution_count": null,
   "metadata": {
    "collapsed": false
   },
   "outputs": [],
   "source": [
    "k6c_data"
   ]
  },
  {
   "cell_type": "code",
   "execution_count": null,
   "metadata": {
    "collapsed": false
   },
   "outputs": [],
   "source": [
    "loggers"
   ]
  },
  {
   "cell_type": "code",
   "execution_count": null,
   "metadata": {
    "collapsed": false
   },
   "outputs": [],
   "source": [
    "lab_data"
   ]
  },
  {
   "cell_type": "code",
   "execution_count": null,
   "metadata": {
    "collapsed": false
   },
   "outputs": [],
   "source": [
    "x = lab_data.ix[500, 'DateTimeStamp']"
   ]
  },
  {
   "cell_type": "code",
   "execution_count": null,
   "metadata": {
    "collapsed": false
   },
   "outputs": [],
   "source": [
    "x = pd.to_datetime(x)\n",
    "x"
   ]
  },
  {
   "cell_type": "code",
   "execution_count": null,
   "metadata": {
    "collapsed": true
   },
   "outputs": [],
   "source": []
  },
  {
   "cell_type": "code",
   "execution_count": null,
   "metadata": {
    "collapsed": true
   },
   "outputs": [],
   "source": []
  },
  {
   "cell_type": "code",
   "execution_count": null,
   "metadata": {
    "collapsed": true
   },
   "outputs": [],
   "source": []
  },
  {
   "cell_type": "code",
   "execution_count": null,
   "metadata": {
    "collapsed": true
   },
   "outputs": [],
   "source": []
  },
  {
   "cell_type": "code",
   "execution_count": null,
   "metadata": {
    "collapsed": true
   },
   "outputs": [],
   "source": []
  },
  {
   "cell_type": "code",
   "execution_count": null,
   "metadata": {
    "collapsed": true
   },
   "outputs": [],
   "source": [
    "lab_data2 = lab_data"
   ]
  },
  {
   "cell_type": "code",
   "execution_count": null,
   "metadata": {
    "collapsed": true
   },
   "outputs": [],
   "source": [
    "mask = (lab_data2['DateTimeStamp'] > '2017-1-1') & (lab_data2['DateTimeStamp'] <= '2017-1-14')"
   ]
  },
  {
   "cell_type": "code",
   "execution_count": null,
   "metadata": {
    "collapsed": false
   },
   "outputs": [],
   "source": [
    "working = lab_data2.loc[mask]"
   ]
  },
  {
   "cell_type": "code",
   "execution_count": null,
   "metadata": {
    "collapsed": true
   },
   "outputs": [],
   "source": [
    "wd = working.groupby('LocationID')"
   ]
  },
  {
   "cell_type": "code",
   "execution_count": null,
   "metadata": {
    "collapsed": false
   },
   "outputs": [],
   "source": [
    "wd"
   ]
  },
  {
   "cell_type": "code",
   "execution_count": null,
   "metadata": {
    "collapsed": false
   },
   "outputs": [],
   "source": [
    "wd[['TempReading', 'HumidReading']].agg([np.min, np.max, len])"
   ]
  },
  {
   "cell_type": "code",
   "execution_count": null,
   "metadata": {
    "collapsed": false
   },
   "outputs": [],
   "source": [
    "wd.describe()"
   ]
  },
  {
   "cell_type": "code",
   "execution_count": null,
   "metadata": {
    "collapsed": true
   },
   "outputs": [],
   "source": []
  },
  {
   "cell_type": "code",
   "execution_count": null,
   "metadata": {
    "collapsed": false
   },
   "outputs": [],
   "source": [
    "d={'item1':{'major0':{'minor0':1,\n",
    "                      'minor1':2},\n",
    "            'major1':{'minor0':3,\n",
    "                      'minor1':4}\n",
    "           },\n",
    "   'item2':{'major0':{'minor0':5,\n",
    "                      'minor1':6},\n",
    "            'major1':{'minor0':7,\n",
    "                      'minor1':8}\n",
    "           }\n",
    "  }\n",
    "d"
   ]
  },
  {
   "cell_type": "code",
   "execution_count": null,
   "metadata": {
    "collapsed": true
   },
   "outputs": [],
   "source": [
    "p = pd.Panel(d)"
   ]
  },
  {
   "cell_type": "code",
   "execution_count": null,
   "metadata": {
    "collapsed": false
   },
   "outputs": [],
   "source": [
    "p"
   ]
  },
  {
   "cell_type": "code",
   "execution_count": null,
   "metadata": {
    "collapsed": true
   },
   "outputs": [],
   "source": []
  }
 ],
 "metadata": {
  "anaconda-cloud": {},
  "kernelspec": {
   "display_name": "Python 3",
   "language": "python",
   "name": "python3"
  },
  "language_info": {
   "codemirror_mode": {
    "name": "ipython",
    "version": 3
   },
   "file_extension": ".py",
   "mimetype": "text/x-python",
   "name": "python",
   "nbconvert_exporter": "python",
   "pygments_lexer": "ipython3",
   "version": "3.6.0"
  }
 },
 "nbformat": 4,
 "nbformat_minor": 2
}
